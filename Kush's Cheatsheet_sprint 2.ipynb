{
 "cells": [
  {
   "attachments": {},
   "cell_type": "markdown",
   "metadata": {},
   "source": [
    "# Lambda School - Sprint Challenge 2: \n",
    "\n"
   ]
  },
  {
   "cell_type": "markdown",
   "metadata": {},
   "source": [
    "## Basic Statistics. \n",
    "\n",
    "No proper understanding in statistics can begin without a thorough and proper understanding of the Normal distribution. \n",
    "\n",
    "![Normal distribution graph](https://upload.wikimedia.org/wikipedia/commons/a/a9/Empirical_Rule.PNG?1587251651906)"
   ]
  },
  {
   "attachments": {},
   "cell_type": "markdown",
   "metadata": {},
   "source": [
    "The general form of this type of function, which is known as a probability density function, can be represented as:\n",
    "\n",
    "![Probability density function](https://wikimedia.org/api/rest_v1/media/math/render/svg/00cb9b2c9b866378626bcfa45c86a6de2f2b2e40)\n",
    "\n",
    "in the explicity parameters wherein mu is 0, and sigma is 1, we get a \"normal distribution function\". \n",
    "\n",
    "![Normal distribution equation](https://wikimedia.org/api/rest_v1/media/math/render/svg/3123d8dd4c3386afe9fac119fed2cfaf7ce9f336)\n",
    "\n",
    "a faster way we can get aquainted with the way this function works is to look at an example with varying **mu** ans **sigma**.\n",
    "\n",
    "![Example of PDF](https://upload.wikimedia.org/wikipedia/commons/thumb/7/74/Normal_Distribution_PDF.svg/800px-Normal_Distribution_PDF.svg.png?1587251935434)\n"
   ]
  },
  {
   "cell_type": "code",
   "execution_count": 8,
   "metadata": {},
   "outputs": [],
   "source": [
    "# with this in mind we should learn how to use the basic four functions used in statistics within numpy. \n",
    "import numpy as np\n",
    "import pandas as pd \n",
    "from scipy import stats\n",
    "\n",
    "# need to generate a dataset to look at [np.random.norma(mu, sigma, n)]\n",
    "normal_array = np.random.normal(0, 1, 1000)\n",
    "normal_array_df = pd.DataFrame(normal_array) "
   ]
  },
  {
   "cell_type": "code",
   "execution_count": 10,
   "metadata": {},
   "outputs": [
    {
     "name": "stdout",
     "output_type": "stream",
     "text": [
      "The lowest value of the dataset is: -2.9358441714196175\n",
      "The highest value of the dataset is: 3.302542451918032\n",
      "The mean value of the dataset is (or mu): -0.013505437882494947\n",
      "The median value of the dataset is: 0.00015701036844917554\n",
      "The standard deviation of the dataset is (or sigma): 1.0036060146268915\n"
     ]
    }
   ],
   "source": [
    "### Min \n",
    "print(f'The lowest value of the dataset is: {np.min(normal_array)}')\n",
    "\n",
    "### Max \n",
    "print(f'The highest value of the dataset is: {np.max(normal_array)}')\n",
    "\n",
    "### Mean \n",
    "print(f'The mean value of the dataset is (or mu): {np.mean(normal_array)}')\n",
    "\n",
    "### Median\n",
    "print(f'The median value of the dataset is: {np.median(normal_array)}')\n",
    "\n",
    "### Sd\n",
    "print(f'The standard deviation of the dataset is (or sigma): {np.std(normal_array)}')"
   ]
  },
  {
   "cell_type": "code",
   "execution_count": 9,
   "metadata": {},
   "outputs": [
    {
     "data": {
      "text/html": [
       "<div>\n",
       "<style scoped>\n",
       "    .dataframe tbody tr th:only-of-type {\n",
       "        vertical-align: middle;\n",
       "    }\n",
       "\n",
       "    .dataframe tbody tr th {\n",
       "        vertical-align: top;\n",
       "    }\n",
       "\n",
       "    .dataframe thead th {\n",
       "        text-align: right;\n",
       "    }\n",
       "</style>\n",
       "<table border=\"1\" class=\"dataframe\">\n",
       "  <thead>\n",
       "    <tr style=\"text-align: right;\">\n",
       "      <th></th>\n",
       "      <th>0</th>\n",
       "    </tr>\n",
       "  </thead>\n",
       "  <tbody>\n",
       "    <tr>\n",
       "      <th>count</th>\n",
       "      <td>1000.000000</td>\n",
       "    </tr>\n",
       "    <tr>\n",
       "      <th>mean</th>\n",
       "      <td>-0.013505</td>\n",
       "    </tr>\n",
       "    <tr>\n",
       "      <th>std</th>\n",
       "      <td>1.004108</td>\n",
       "    </tr>\n",
       "    <tr>\n",
       "      <th>min</th>\n",
       "      <td>-2.935844</td>\n",
       "    </tr>\n",
       "    <tr>\n",
       "      <th>25%</th>\n",
       "      <td>-0.734454</td>\n",
       "    </tr>\n",
       "    <tr>\n",
       "      <th>50%</th>\n",
       "      <td>0.000157</td>\n",
       "    </tr>\n",
       "    <tr>\n",
       "      <th>75%</th>\n",
       "      <td>0.646335</td>\n",
       "    </tr>\n",
       "    <tr>\n",
       "      <th>max</th>\n",
       "      <td>3.302542</td>\n",
       "    </tr>\n",
       "  </tbody>\n",
       "</table>\n",
       "</div>"
      ],
      "text/plain": [
       "                 0\n",
       "count  1000.000000\n",
       "mean     -0.013505\n",
       "std       1.004108\n",
       "min      -2.935844\n",
       "25%      -0.734454\n",
       "50%       0.000157\n",
       "75%       0.646335\n",
       "max       3.302542"
      ]
     },
     "execution_count": 9,
     "metadata": {},
     "output_type": "execute_result"
    }
   ],
   "source": [
    "### describe function\n",
    "normal_array_df.describe()"
   ]
  },
  {
   "cell_type": "markdown",
   "metadata": {},
   "source": [
    "## Statistical Definitons of Value.\n",
    "\n",
    "**Set**: A collection of distinct entities regarded as a unit, being either individually specified or (more usually) satisfying specified conditions. See the Python class [`set()` ](https://docs.python.org/3/library/stdtypes.html#set) \n",
    "\n",
    "**Subset**: If a set `A` in which all members are also members of another set `B`, then set `A` is considered to be a subset of `B`\n",
    "\n",
    "**Empty Set**: A set without any members. The empty set is a subset of all other sets\n",
    "\n",
    "**Universal Set**: The set that all other sets are a subset of\n",
    "\n",
    "**Combination**: A selection of a given number of elements from a larger number without regard to their arrangement $nCr = \\frac{n!}{r!(n-r)!}$\n",
    "\n",
    "**Permutation**: A selection of a given number of elements from a set with concern for ordering $nPr = \\frac{n!}{(n-r)!}$\n",
    "\n",
    "**Degrees of Freedom**: the number of independent values or quantities which can be assigned to a statistical distribution. \n",
    "\n",
    "**Sample**: A group of individual observations drawn from a population, usually at random, and with the assumption that the sample mean and population mean will be equal. The larger the sample size, the closer the sample mean and population mean will actually be.\n",
    "\n",
    "**Null Hypothesis**: A general statement or default position that there is no relationship between two measured phenomena, or no association among groups. \"The boring\" choice, nothing special is happening.\n",
    "\n",
    "**Statistical Significance**: a result has statistical significance when it is very unlikely to have occurred given the null hypothesis (usually indicated by a p-value < .05)\n",
    "\n",
    "**Student's T-test**: A set of statistical hypothesis tests applied in cases where the test statistic is distributed normally (a very typical situation), but the standard deviation of the population is unknown (typical for many real-world situations). It is a relaxed version of Z-tests which assumes more strict normality and a known standard deviation. The larger the t-test statistic the more 'unusual' the result, while the p-value determines whether that result is considered statistically significant (disproving the null hypothesis). "
   ]
  },
  {
   "cell_type": "markdown",
   "metadata": {},
   "source": [
    "## The three statistics tests done: \n",
    "\n",
    "- [Bayesian Inference](https://medium.com/@mark.rethana/bayesian-statistics-and-naive-bayes-classifier-33b735ad7b16) \n",
    "- [Chi-squared Test](https://machinelearningmastery.com/chi-squared-test-for-machine-learning/) \n",
    "- [T Test (Student’s T-Test)](https://towardsdatascience.com/statistical-tests-when-to-use-which-704557554740)"
   ]
  },
  {
   "cell_type": "markdown",
   "metadata": {},
   "source": [
    "### T-Test (Student's T-Test)\n",
    "\n",
    "Two common t-test are:\n",
    "- A [one-sample test](https://docs.scipy.org/doc/scipy/reference/generated/scipy.stats.ttest_1samp.html#scipy.stats.ttest_1samp) of whether the mean of a population has a value specified in a null hypothesis.\n",
    "- A [two-sample test](https://docs.scipy.org/doc/scipy/reference/generated/scipy.stats.ttest_ind.html#scipy.stats.ttest_ind) of the null hypothesis such that the means of two populations are equal."
   ]
  },
  {
   "cell_type": "code",
   "execution_count": null,
   "metadata": {},
   "outputs": [],
   "source": [
    "#one sample t-test\n",
    "from scipy import stats\n",
    "\n",
    "stats.ttest_1samp(df_subset['feature'],df['feature'].mean()"
   ]
  },
  {
   "cell_type": "code",
   "execution_count": null,
   "metadata": {},
   "outputs": [],
   "source": [
    "#two sample t-test\n",
    "\n",
    "stats.ttest_ind(df1['feature'], df2['feature'])"
   ]
  },
  {
   "cell_type": "markdown",
   "metadata": {},
   "source": [
    "### Chi-squared Test\n",
    "**Chi Square Test**: Used to test the independence of rows or columns (null hypothesis is independent), usually with categorical variables. \n",
    "- [Chi Square Documentation](https://docs.scipy.org/doc/scipy/reference/generated/scipy.stats.chisquare.html)\n",
    "- [Chi Square Contingency Documentation](https://docs.scipy.org/doc/scipy/reference/generated/scipy.stats.chi2_contingency.html)  Related: [Contingency Table](https://en.wikipedia.org/wiki/Contingency_table)"
   ]
  },
  {
   "cell_type": "code",
   "execution_count": null,
   "metadata": {},
   "outputs": [],
   "source": [
    "from scipy.stats import chisquare\n",
    "# The null hypothesis is that the rows/cols are independent -> low chi square\n",
    "# The alternative is that there is a dependence -> high chi square\n",
    "\n",
    "chisquare(observations, axis=None)"
   ]
  },
  {
   "cell_type": "code",
   "execution_count": null,
   "metadata": {},
   "outputs": [],
   "source": [
    "from scipy.stats import chi2_contingency\n",
    "\n",
    "#Chi^2 from contingency table\n",
    "chi_squared, p_value, dof, expected = stats.chi2_contingency(contingency_table)"
   ]
  },
  {
   "cell_type": "markdown",
   "metadata": {},
   "source": [
    "#### Confidence Interval\n",
    "**Confidence Interval**: Given a sample, the confidence interval is a calculated range that an unknown population parameter (such as mean) is likely to be within. A 95% confidence interval means there is a 95% chance that the unknown parameter is within the range calculated."
   ]
  },
  {
   "cell_type": "code",
   "execution_count": null,
   "metadata": {},
   "outputs": [],
   "source": [
    "# Confidence intervals\n",
    "import numpy as np\n",
    "from scipy import stats\n",
    "\n",
    "def confidence_interval(data, confidence=0.95):\n",
    "  data = np.array(data)\n",
    "  mean = np.mean(data)\n",
    "  n = len(data)\n",
    "  \n",
    "  stderr = stats.sem(data)\n",
    "  interval = stderr * stats.t.ppf((1 + confidence) / 2., n - 1)\n",
    "  \n",
    "  return (interval)"
   ]
  },
  {
   "cell_type": "markdown",
   "metadata": {},
   "source": [
    "### Bayesian Infererence: \n",
    "\n",
    "**Conditional Probability** - A measure of the probability of an event (some particular situation occurring) given that another event has occurred. $$P(A|B) = \\frac{P(A \\cap B)}{P(B)}$$\n",
    "\n",
    "**Bayes Theorem** - Describes the probability of an event, based on prior knowledge of conditions that might be related to the event. $$P(A|B) = \\frac{P(B|A)P(A)}{P(B)}$$  The probability of $A$ conditioned on $B$ is the probability of $B$ conditioned on $A$, times the probability of $A$ and divided by the probability of $B$. These unconditioned probabilities are referred to as \"prior beliefs\", and the conditioned probabilities as \"updated.\""
   ]
  },
  {
   "cell_type": "markdown",
   "metadata": {},
   "source": [
    "### Kush's Notes on Bayesian Inference: \n",
    "\n",
    "#### ***Bayes Theorem: The many faces***\n",
    "\n",
    "$$p(H|D) = \\frac{p(D|H) * p(H)}{p(D)}$$\n",
    "\n",
    "* H is the **hypothesis**  \n",
    "* D is the observed **data**  \n",
    "* p(H) is the probability of the hypothesis before we see the data, called the prior probability, or just **prior**.    \n",
    "* p(D) is the **marginal probability** of the data taking into account all possible hypotheses (aka \"total probability of D\").  \n",
    "* p(D|H) is the probability of the data give that the hypothesis is true, called the **conditional probability**.   \n",
    "*  p(H|D) is what we want to compute, the probability of the hypothesis after we see the data, called the **posterior** probability.\n",
    "\n",
    "$$P(A|B) = \\frac{P(B|A)* P(A)}{P(B)}$$\n",
    "\n",
    "In words - the probability of $A$ conditioned on $B$ is the probability of $B$ conditioned on $A$, times the probability of $A$ and divided by the probability of $B$. \n",
    "\n",
    "\n",
    "***How to apply: aka the problem written out for us***\n",
    "\n",
    "\n",
    "![Bayes Theorem Drug Test Example](https://wikimedia.org/api/rest_v1/media/math/render/svg/95c6524a3736c43e4bae139713f3df2392e6eda9)\n",
    "\n",
    "* P(+|User) = 1 - True Positive Rate\n",
    "\n",
    "* P(User) = 1/200 Prior probability\n",
    "\n",
    "* P(+|Non-user) = False Positive rate\n",
    "\n",
    "***Most Basic Explanation***\n",
    "<div>\n",
    "<img src=\"https://www.bayestheorem.net/images/Bayes-Theorem-Formula-Defined.jpeg\" width=\"500\"/>\n",
    "</div>\n",
    "$$posterior = \\frac{conditional * prior}{marginal}$$\n"
   ]
  },
  {
   "cell_type": "code",
   "execution_count": null,
   "metadata": {},
   "outputs": [],
   "source": [
    "from scipy.stats import bayes_mvs\n",
    "\n",
    "bayes_mvs(df['feature'], alpha=.95)"
   ]
  },
  {
   "cell_type": "markdown",
   "metadata": {},
   "source": [
    "# More Theory: \n",
    "\n",
    "We're going to discuss more theory from the stuff in the lectures that's per-se not covered in the lecture notes: "
   ]
  },
  {
   "cell_type": "markdown",
   "metadata": {},
   "source": [
    "### Definitions: Prof. Austin's magnificent table: \n",
    "\n",
    "| Bayes term | Bayes formula | Confusion Matrix term | Confusion Matrix formula| Alternative CM term | \n",
    "|:-|:-|:-|:-|:-|\n",
    "| prior | P(A) | prevalence | (TP + FN) / (TP+TN+FP+FN) | ? |\n",
    "| posterior | P(A given B) | Positive Predictive Value (PPV) | TP / (TP + FP) | precision |\n",
    "| conditional | P(B given A) | True Positive Rate (TPR)  |TP / (TP + FN) | sensitivity, recall |\n",
    "| marginal | P(B) | queue rate | (TP + FP) / (TP+TN+FP+FN) | ? |  \n",
    "| prior complement | P(not A) or 100-P(A) | prevalence complement | 1-prevalence | ? |\n",
    "| ? | P(not B given not A) | True Negative Rate (TNR) | TN / (FP + TN) | specificity |\n",
    "| ? | P(B given not A) | False Positive Rate (FPR) | FP / (FP+TN) | fall-out rate, false alarm rate |\n",
    "| ? | P(not B given A) | False Negative Rate (FNR) | FN / (TP + FN) | miss rate |\n",
    "|?|?|accuracy|(TP + TN) / (TP+TN+FP+FN)|?|\n",
    "|?|?|error rate|(FP + FN) / (TP+TN+FP+FN)|misclassification rate|\n",
    "\n",
    "\n",
    "**Abbreviations**  \n",
    "A: Hypothesized Data       \n",
    "B: Observed Data         \n",
    "TP: True Positive  \n",
    "TN: True Negative  \n",
    "FP: False Positive  \n",
    "FN: False Negative  \n",
    " \n",
    "^ Note: Sometimes in Bayesian statistics the following terms are used instead:\n",
    " \n",
    "* prior = hypothesis\n",
    "* posterior = updated hypothesis\n",
    "* conditional = likelihood\n",
    "* marginal = model evidence"
   ]
  },
  {
   "cell_type": "markdown",
   "metadata": {},
   "source": [
    "### Generalized Structure of a H_0 and H_A\n",
    "\n",
    "Null Hypothesis $(H_0)$: The is no significant difference in thing between x and y on k-dataset.\n",
    "Alternative Hypothesis $(H_a)$: The is a significant The is no significant difference in thing between x and y on k-dataset"
   ]
  }
 ],
 "metadata": {
  "kernelspec": {
   "display_name": "Python 3",
   "language": "python",
   "name": "python3"
  },
  "language_info": {
   "codemirror_mode": {
    "name": "ipython",
    "version": 3
   },
   "file_extension": ".py",
   "mimetype": "text/x-python",
   "name": "python",
   "nbconvert_exporter": "python",
   "pygments_lexer": "ipython3",
   "version": "3.7.6"
  }
 },
 "nbformat": 4,
 "nbformat_minor": 4
}
